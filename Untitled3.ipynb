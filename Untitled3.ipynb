{
 "cells": [
  {
   "cell_type": "code",
   "execution_count": 1,
   "id": "2afa42c5",
   "metadata": {},
   "outputs": [],
   "source": [
    "import requests\n",
    "import pandas as pd\n",
    "from bs4 import BeautifulSoup\n",
    "\n",
    "def extract_job_info(job):\n",
    "    title = job.find('h3', class_='job-title').text\n",
    "    description = job.find('div', class_='job-description').text\n",
    "    company = job.find('span', class_='job-company-name').text\n",
    "    location = job.find('span', class_='job-location').text\n",
    "\n",
    "    return {\n",
    "        'title': title,\n",
    "        'description': description,\n",
    "        'company': company,\n",
    "        'location': location\n",
    "    }\n",
    "\n",
    "def extract_jobs_info(jobs):\n",
    "    jobs_info = []\n",
    "\n",
    "    for job in jobs:\n",
    "        job_info = extract_job_info(job)\n",
    "        jobs_info.append(job_info)\n",
    "\n",
    "    return jobs_info\n",
    "\n",
    "def save_to_csv(jobs_info):\n",
    "    df = pd.DataFrame(jobs_info)\n",
    "    df.to_csv('jobs.csv', index=False)\n",
    "    print('Informações salvas com sucesso.')\n",
    "\n",
    "def main():\n",
    "    url = 'https://www.linkedin.com/jobs/search/?keywords=engenharia%20de%20dados%2C%20desenvolvimento%20de%20software%2C%20ui%20ux&location=S%C3%A3o%20Paulo%2C%20State%20of%20S%C3%A3o%20Paulo%2C%20Brazil&sortBy=DD'\n",
    "    response = requests.get(url)\n",
    "\n",
    "    if response.status_code == 200:\n",
    "        soup = BeautifulSoup(response.text, 'html.parser')\n",
    "        jobs = soup.find_all('li', class_='job-listing')\n",
    "        jobs_info = extract_jobs_info(jobs)\n",
    "        save_to_csv(jobs_info)\n",
    "    else:\n",
    "        print('Erro ao requisitar a página.')\n"
   ]
  },
  {
   "cell_type": "code",
   "execution_count": null,
   "id": "16a9fdf8",
   "metadata": {},
   "outputs": [],
   "source": []
  }
 ],
 "metadata": {
  "kernelspec": {
   "display_name": "Python 3 (ipykernel)",
   "language": "python",
   "name": "python3"
  },
  "language_info": {
   "codemirror_mode": {
    "name": "ipython",
    "version": 3
   },
   "file_extension": ".py",
   "mimetype": "text/x-python",
   "name": "python",
   "nbconvert_exporter": "python",
   "pygments_lexer": "ipython3",
   "version": "3.9.13"
  }
 },
 "nbformat": 4,
 "nbformat_minor": 5
}
