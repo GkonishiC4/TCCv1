{
 "cells": [
  {
   "cell_type": "code",
   "execution_count": 3,
   "id": "1a0302ae",
   "metadata": {},
   "outputs": [],
   "source": [
    "import requests\n",
    "from bs4 import BeautifulSoup"
   ]
  },
  {
   "cell_type": "code",
   "execution_count": 14,
   "id": "a9da0ee5",
   "metadata": {},
   "outputs": [],
   "source": [
    "url='https://www.linkedin.com/jobs/search/?currentJobId=3472716999&distance=25&geoId=106057199&keywords=Engenheiro%20de%20dados'\n",
    "page = requests.get(url)"
   ]
  },
  {
   "cell_type": "code",
   "execution_count": 21,
   "id": "c5ae8159",
   "metadata": {},
   "outputs": [
    {
     "ename": "SyntaxError",
     "evalue": "invalid syntax (3269579747.py, line 2)",
     "output_type": "error",
     "traceback": [
      "\u001b[1;36m  File \u001b[1;32m\"C:\\Users\\guilh\\AppData\\Local\\Temp\\ipykernel_11192\\3269579747.py\"\u001b[1;36m, line \u001b[1;32m2\u001b[0m\n\u001b[1;33m    lists=soup.find_all('span',class=\"job-card-list__entity-lockup\")\u001b[0m\n\u001b[1;37m                               ^\u001b[0m\n\u001b[1;31mSyntaxError\u001b[0m\u001b[1;31m:\u001b[0m invalid syntax\n"
     ]
    }
   ],
   "source": [
    "soup = BeautifulSoup(page.content,'html.parse')\n",
    "lists=soup.find_all('span',class=\"job-card-list__entity-lockup\")"
   ]
  },
  {
   "cell_type": "code",
   "execution_count": null,
   "id": "252b4fb1",
   "metadata": {},
   "outputs": [],
   "source": [
    "for list in lists:\n",
    "    title = list.find('id',class=\"disabled ember-view job-card-container__link job-card-list__title\")\n",
    "    info=[title]\n",
    "    print(info)"
   ]
  }
 ],
 "metadata": {
  "kernelspec": {
   "display_name": "Python 3 (ipykernel)",
   "language": "python",
   "name": "python3"
  },
  "language_info": {
   "codemirror_mode": {
    "name": "ipython",
    "version": 3
   },
   "file_extension": ".py",
   "mimetype": "text/x-python",
   "name": "python",
   "nbconvert_exporter": "python",
   "pygments_lexer": "ipython3",
   "version": "3.9.13"
  }
 },
 "nbformat": 4,
 "nbformat_minor": 5
}
