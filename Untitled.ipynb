{
 "cells": [
  {
   "cell_type": "code",
   "execution_count": 1,
   "id": "e0d60321",
   "metadata": {
    "scrolled": true
   },
   "outputs": [
    {
     "name": "stdout",
     "output_type": "stream",
     "text": [
      "Requirement already satisfied: bs4 in e:\\conda\\lib\\site-packages (0.0.1)\n",
      "Requirement already satisfied: beautifulsoup4 in e:\\conda\\lib\\site-packages (from bs4) (4.11.2)\n",
      "Requirement already satisfied: soupsieve>1.2 in e:\\conda\\lib\\site-packages (from beautifulsoup4->bs4) (2.3.2.post1)\n",
      "Note: you may need to restart the kernel to use updated packages.\n"
     ]
    }
   ],
   "source": [
    "pip install bs4"
   ]
  },
  {
   "cell_type": "code",
   "execution_count": 2,
   "id": "c6aa29ea",
   "metadata": {},
   "outputs": [],
   "source": [
    "from urllib.request import urlopen, urlretrieve, Request\n",
    "from urllib.error import URLError, HTTPError\n",
    "from bs4 import BeautifulSoup\n",
    "import pandas as pd"
   ]
  },
  {
   "cell_type": "code",
   "execution_count": null,
   "id": "5a541f39",
   "metadata": {},
   "outputs": [],
   "source": [
    "#Obtendo o HTML\n",
    "url = \"https://www.linkedin.com/jobs/search/?currentJobId=3472716999&distance=25&geoId=106057199&keywords=Engenheiro%20de%20dados\"\n",
    "headers ={\"User-Agent\": \"Mozilla/5.0 (Windows NT 10.0; Win64; x64) AppleWebKit/537.36 (KHTML, like Gecko) Chrome/108.0.0.0 Safari/537.36 OPR/94.0.0.0\"}\n",
    " \n",
    "req = Request(url,headers=headers)\n",
    "response = urlopen(req)\n",
    "html = response.read()\n",
    "soup = BeautifulSoup(html,'html.parser')\n",
    " \n",
    "#Obtendo as TAGs de interesse ( topo das informações)\n",
    "jobs = soup.find_all(\n",
    "        'div', class_=\"base-card relative w-full hover:no-underline focus:no-underline base-card--link base-search-card base-search-card--link job-search-card\")\n",
    "\n",
    "\n"
   ]
  }
 ],
 "metadata": {
  "kernelspec": {
   "display_name": "Python 3 (ipykernel)",
   "language": "python",
   "name": "python3"
  },
  "language_info": {
   "codemirror_mode": {
    "name": "ipython",
    "version": 3
   },
   "file_extension": ".py",
   "mimetype": "text/x-python",
   "name": "python",
   "nbconvert_exporter": "python",
   "pygments_lexer": "ipython3",
   "version": "3.9.13"
  }
 },
 "nbformat": 4,
 "nbformat_minor": 5
}
